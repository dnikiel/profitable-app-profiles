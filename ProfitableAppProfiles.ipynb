{
 "metadata": {
  "language_info": {
   "codemirror_mode": {
    "name": "ipython",
    "version": 3
   },
   "file_extension": ".py",
   "mimetype": "text/x-python",
   "name": "python",
   "nbconvert_exporter": "python",
   "pygments_lexer": "ipython3",
   "version": "3.8.5-final"
  },
  "orig_nbformat": 2,
  "kernelspec": {
   "name": "python3",
   "display_name": "Python 3"
  }
 },
 "nbformat": 4,
 "nbformat_minor": 2,
 "cells": [
  {
   "source": [
    "# Profitable App Profiles for the App Store and Google Play Markets\n",
    "\n",
    "We are working as data analyst for softwarehouse which wants to create a profitable, free mobile application for App Store and Google Play Markets. Main source of revenue consists of in-app ads. This means that our revenue for any given app is mostly influenced by the number of users that use our app.\n",
    "\n",
    "Our goal for this project is to analyze data to help developers understand what kinds of apps are likely to attract more users.\n",
    "\n",
    "Research will be based on two datasets from kaggle.com\n",
    "\n",
    "- [Data set](https://www.kaggle.com/lava18/google-play-store-apps) containing data about approximately ten thousand Android apps from Google Play.\n",
    "- [Data set](https://www.kaggle.com/ramamet4/app-store-apple-data-set-10k-apps) containing data about approximately seven thousand iOS apps from the App Store.\n",
    "\n"
   ],
   "cell_type": "markdown",
   "metadata": {}
  },
  {
   "cell_type": "code",
   "execution_count": 183,
   "metadata": {
    "tags": []
   },
   "outputs": [],
   "source": [
    "from csv import reader\n",
    "\n",
    "open_file = open('./data/AppleStore.csv')\n",
    "read_file = reader(open_file)\n",
    "apple_store_list = list(read_file)\n",
    "apple_store_header = apple_store_list[0]\n",
    "apple_store_data = apple_store_list[1:]\n",
    "\n",
    "open_file = open('./data/GooglePlayStore.csv')\n",
    "read_file = reader(open_file)\n",
    "google_store_list = list(read_file)\n",
    "google_store_header = google_store_list[0]\n",
    "google_store_data = google_store_list[1:] \n",
    "\n",
    "def explore_data(dataset: list, start: int, end: int, rows_and_columns=False):\n",
    "    dataset_slice = dataset[start:end]\n",
    "    \n",
    "    for row in dataset_slice:\n",
    "        print(row, '\\n')\n",
    "\n",
    "    if rows_and_columns:\n",
    "        print('Number of rows:', len(dataset))\n",
    "        print('Number of columns:', len(dataset[0]))\n"
   ]
  },
  {
   "cell_type": "code",
   "execution_count": 184,
   "metadata": {},
   "outputs": [
    {
     "output_type": "stream",
     "name": "stdout",
     "text": [
      "Apple Store Data: \n\n['', 'id', 'track_name', 'size_bytes', 'currency', 'price', 'rating_count_tot', 'rating_count_ver', 'user_rating', 'user_rating_ver', 'ver', 'cont_rating', 'prime_genre', 'sup_devices.num', 'ipadSc_urls.num', 'lang.num', 'vpp_lic'] \n\n['1', '281656475', 'PAC-MAN Premium', '100788224', 'USD', '3.99', '21292', '26', '4', '4.5', '6.3.5', '4+', 'Games', '38', '5', '10', '1'] \n\n['2', '281796108', 'Evernote - stay organized', '158578688', 'USD', '0', '161065', '26', '4', '3.5', '8.2.2', '4+', 'Productivity', '37', '5', '23', '1'] \n\n['3', '281940292', 'WeatherBug - Local Weather, Radar, Maps, Alerts', '100524032', 'USD', '0', '188583', '2822', '3.5', '4.5', '5.0.0', '4+', 'Weather', '37', '5', '3', '1'] \n\n['4', '282614216', 'eBay: Best App to Buy, Sell, Save! Online Shopping', '128512000', 'USD', '0', '262241', '649', '4', '4.5', '5.10.0', '12+', 'Shopping', '37', '5', '9', '1'] \n\n['5', '282935706', 'Bible', '92774400', 'USD', '0', '985920', '5320', '4.5', '5', '7.5.1', '4+', 'Reference', '37', '5', '45', '1'] \n\nNumber of rows: 7197\nNumber of columns: 17\n"
     ]
    }
   ],
   "source": [
    "print('Apple Store Data: \\n')\n",
    "print(apple_store_header, '\\n')\n",
    "\n",
    "explore_data(dataset=apple_store_data, start=0, end=5, rows_and_columns=True)"
   ]
  },
  {
   "cell_type": "code",
   "execution_count": 185,
   "metadata": {},
   "outputs": [
    {
     "output_type": "stream",
     "name": "stdout",
     "text": [
      "Google Play Store Data: \n\n['App', 'Category', 'Rating', 'Reviews', 'Size', 'Installs', 'Type', 'Price', 'Content Rating', 'Genres', 'Last Updated', 'Current Ver', 'Android Ver'] \n\n['Photo Editor & Candy Camera & Grid & ScrapBook', 'ART_AND_DESIGN', '4.1', '159', '19M', '10,000+', 'Free', '0', 'Everyone', 'Art & Design', 'January 7, 2018', '1.0.0', '4.0.3 and up'] \n\n['Coloring book moana', 'ART_AND_DESIGN', '3.9', '967', '14M', '500,000+', 'Free', '0', 'Everyone', 'Art & Design;Pretend Play', 'January 15, 2018', '2.0.0', '4.0.3 and up'] \n\n['U Launcher Lite – FREE Live Cool Themes, Hide Apps', 'ART_AND_DESIGN', '4.7', '87510', '8.7M', '5,000,000+', 'Free', '0', 'Everyone', 'Art & Design', 'August 1, 2018', '1.2.4', '4.0.3 and up'] \n\n['Sketch - Draw & Paint', 'ART_AND_DESIGN', '4.5', '215644', '25M', '50,000,000+', 'Free', '0', 'Teen', 'Art & Design', 'June 8, 2018', 'Varies with device', '4.2 and up'] \n\n['Pixel Draw - Number Art Coloring Book', 'ART_AND_DESIGN', '4.3', '967', '2.8M', '100,000+', 'Free', '0', 'Everyone', 'Art & Design;Creativity', 'June 20, 2018', '1.1', '4.4 and up'] \n\nNumber of rows: 10841\nNumber of columns: 13\n"
     ]
    }
   ],
   "source": [
    "print('Google Play Store Data: \\n')\n",
    "print(google_store_header, '\\n')\n",
    "\n",
    "explore_data(dataset=google_store_data, start=0, end=5, rows_and_columns=True)"
   ]
  },
  {
   "source": [
    "## Data Cleaning\n",
    "\n",
    "As part of data cleanng proccess we want to:\n",
    "- remove non-english apps\n",
    "- remove apps that are not free\n",
    "- remove or fix incorrect app data - remove rows with incorrect number of columns\n",
    "- remove duplicates"
   ],
   "cell_type": "markdown",
   "metadata": {}
  },
  {
   "source": [
    "### Track and remove rows with incorrect number of columns"
   ],
   "cell_type": "markdown",
   "metadata": {}
  },
  {
   "cell_type": "code",
   "execution_count": 186,
   "metadata": {},
   "outputs": [
    {
     "output_type": "stream",
     "name": "stdout",
     "text": [
      "Apple Store:\nGoogle Play Store:\ndata:  ['Life Made WI-Fi Touchscreen Photo Frame', '1.9', '19', '3.0M', '1,000+', 'Free', '0', 'Everyone', '', 'February 11, 2018', '1.0.19', '4.0 and up']\nlength:  12\nindex:  10472\n"
     ]
    }
   ],
   "source": [
    "def validate_cols(dataset: list, header: list):\n",
    "    for i, row in enumerate(dataset):\n",
    "        if len(row) != len(header):\n",
    "            print('data: ', row)\n",
    "            print('length: ', len(row))\n",
    "            print('index: ', i)\n",
    "\n",
    "print('Apple Store:')\n",
    "validate_cols(apple_store_data, apple_store_header)\n",
    "\n",
    "print('Google Play Store:')\n",
    "validate_cols(google_store_data, google_store_header)"
   ]
  },
  {
   "source": [
    "We found only one invalid row. We will simply delete it."
   ],
   "cell_type": "markdown",
   "metadata": {}
  },
  {
   "cell_type": "code",
   "execution_count": 187,
   "metadata": {},
   "outputs": [],
   "source": [
    "del(google_store_data[10472])\n",
    "validate_cols(google_store_data, google_store_header)"
   ]
  },
  {
   "source": [
    "### Find and remove duplicates\n",
    "\n"
   ],
   "cell_type": "markdown",
   "metadata": {}
  },
  {
   "cell_type": "code",
   "execution_count": 188,
   "metadata": {
    "tags": []
   },
   "outputs": [
    {
     "output_type": "stream",
     "name": "stdout",
     "text": [
      "Google:\n",
      "Number of duplicates: 1181\n",
      "Sample: ['Quick PDF Scanner + OCR FREE', 'Box', 'Google My Business', 'ZOOM Cloud Meetings', 'join.me - Simple Meetings']\n",
      "Apple:\n",
      "Number of duplicates: 0\n"
     ]
    }
   ],
   "source": [
    "def find_duplicates(dataset: list, name_index: int):\n",
    "    unique_apps = []\n",
    "    duplicate_apps = []\n",
    "\n",
    "    for row in dataset:\n",
    "        if row[name_index] in unique_apps:\n",
    "            duplicate_apps.append(row[name_index])\n",
    "        else:\n",
    "            unique_apps.append(row[name_index])\n",
    "\n",
    "    return duplicate_apps\n",
    "\n",
    "google_store_duplicates = find_duplicates(google_store_data, 0)\n",
    "\n",
    "print('Google:')\n",
    "print('Number of duplicates:', len(google_store_duplicates))\n",
    "print('Sample:', google_store_duplicates[:5])\n",
    "\n",
    "apple_store_duplicates = find_duplicates(apple_store_data, 1)\n",
    "\n",
    "print('Apple:')\n",
    "print('Number of duplicates:', len(apple_store_duplicates))"
   ]
  },
  {
   "source": [
    "There is a lot of duplicates in google store dataset. Will list some below:"
   ],
   "cell_type": "markdown",
   "metadata": {}
  },
  {
   "cell_type": "code",
   "execution_count": 189,
   "metadata": {},
   "outputs": [
    {
     "output_type": "stream",
     "name": "stdout",
     "text": [
      "['Quick PDF Scanner + OCR FREE', 'BUSINESS', '4.2', '80805', 'Varies with device', '5,000,000+', 'Free', '0', 'Everyone', 'Business', 'February 26, 2018', 'Varies with device', '4.0.3 and up']\n['Quick PDF Scanner + OCR FREE', 'BUSINESS', '4.2', '80805', 'Varies with device', '5,000,000+', 'Free', '0', 'Everyone', 'Business', 'February 26, 2018', 'Varies with device', '4.0.3 and up']\n['Quick PDF Scanner + OCR FREE', 'BUSINESS', '4.2', '80804', 'Varies with device', '5,000,000+', 'Free', '0', 'Everyone', 'Business', 'February 26, 2018', 'Varies with device', '4.0.3 and up']\n"
     ]
    }
   ],
   "source": [
    "for app in google_store_data:\n",
    "    if app[0] == 'Quick PDF Scanner + OCR FREE':\n",
    "        print(app)"
   ]
  },
  {
   "source": [
    "The only difference is number in fourth cell, which is number of reviews. That means that data was scraped multiple times. We want preserve only most recent data which is indicated by highest number of reviews given."
   ],
   "cell_type": "markdown",
   "metadata": {}
  },
  {
   "cell_type": "code",
   "execution_count": 190,
   "metadata": {},
   "outputs": [
    {
     "output_type": "execute_result",
     "data": {
      "text/plain": [
       "9659"
      ]
     },
     "metadata": {},
     "execution_count": 190
    }
   ],
   "source": [
    "reviews_max = {}\n",
    "\n",
    "for app in google_store_data:\n",
    "    name = app[0]\n",
    "    n_reviews = float(app[3])\n",
    "\n",
    "    if name in reviews_max and reviews_max[name] < n_reviews:\n",
    "        reviews_max[name] = n_reviews\n",
    "    elif name not in reviews_max:\n",
    "        reviews_max[name] = n_reviews\n",
    "\n",
    "len(reviews_max)        "
   ]
  },
  {
   "cell_type": "code",
   "execution_count": 191,
   "metadata": {},
   "outputs": [
    {
     "output_type": "execute_result",
     "data": {
      "text/plain": [
       "9659"
      ]
     },
     "metadata": {},
     "execution_count": 191
    }
   ],
   "source": [
    "android_clean = [] # Stores data without duplicates.\n",
    "already_added = [] # Stores names of already added apps.\n",
    "\n",
    "for app in google_store_data:\n",
    "    name = app[0]\n",
    "    n_reviews = float(app[3])\n",
    "\n",
    "    if n_reviews == reviews_max[name] and name not in already_added:\n",
    "        android_clean.append(app)\n",
    "        already_added.append(name)\n",
    "\n",
    "len(android_clean)"
   ]
  },
  {
   "source": [
    "### Removing non-english apps\n",
    "\n",
    "Having data cleaned from duplicates we will continue with next step of data cleaning proccess - removing non-english apps. For this we will simply use ASCII range (0 - 127). I have decided to allow maximum of 3 non-ASCII signs so that apps with emojis in title will not be filtered out."
   ],
   "cell_type": "markdown",
   "metadata": {}
  },
  {
   "cell_type": "code",
   "execution_count": 192,
   "metadata": {},
   "outputs": [
    {
     "output_type": "execute_result",
     "data": {
      "text/plain": [
       "True"
      ]
     },
     "metadata": {},
     "execution_count": 192
    }
   ],
   "source": [
    "def is_english(name):\n",
    "    n_invalid_chars = 0\n",
    "    \n",
    "    for letter in name:\n",
    "        if ord(letter) > 127: # ASCII range\n",
    "            n_invalid_chars += 1\n",
    "\n",
    "    if n_invalid_chars > 3: # 3 non-ASCII chars threshold\n",
    "        return False\n",
    "\n",
    "    return True\n",
    "\n",
    "is_english('Instachat')"
   ]
  },
  {
   "cell_type": "code",
   "execution_count": 193,
   "metadata": {},
   "outputs": [
    {
     "output_type": "stream",
     "name": "stdout",
     "text": [
      "9614\n6183\n"
     ]
    }
   ],
   "source": [
    "google_english = []\n",
    "apple_english = [] \n",
    "\n",
    "for app in android_clean:\n",
    "    if is_english(app[0]): # 0 is app name index\n",
    "        google_english.append(app)\n",
    "\n",
    "for app in apple_store_data:\n",
    "    if is_english(app[2]): # 2 is app name index\n",
    "        apple_english.append(app)\n",
    "\n",
    "print(len(google_english))\n",
    "print(len(apple_english))\n"
   ]
  },
  {
   "source": [
    "### Filter out non-free apps"
   ],
   "cell_type": "markdown",
   "metadata": {}
  },
  {
   "cell_type": "code",
   "execution_count": 194,
   "metadata": {
    "tags": []
   },
   "outputs": [
    {
     "output_type": "stream",
     "name": "stdout",
     "text": [
      "8863\n3222\n"
     ]
    }
   ],
   "source": [
    "google_price_index = 6\n",
    "apple_price_index = 5\n",
    "\n",
    "google_free_apps = [app for app in google_english if app[google_price_index] == 'Free']\n",
    "apple_free_apps = [app for app in apple_english if float(app[apple_price_index]) == 0]\n",
    "\n",
    "print(len(google_free_apps))\n",
    "print(len(apple_free_apps))\n"
   ]
  },
  {
   "source": [
    "So far, we spent a good amount of time on cleaning data, and:\n",
    "\n",
    "Removed inaccurate data\n",
    "Removed duplicate app entries\n",
    "Removed non-English apps\n",
    "Isolated the free apps\n",
    "As I mentioned in the introduction, our aim is to determine the kinds of apps that are likely to attract more users because our revenue is highly influenced by the number of people using our apps.\n",
    "\n",
    "To minimize risks and overhead, validation strategy for an app idea is comprised of three steps:\n",
    "\n",
    "Build a minimal Android version of the app, and add it to Google Play.\n",
    "If the app has a good response from users, we develop it further.\n",
    "If the app is profitable after six months, we build an iOS version of the app and add it to the App Store.\n",
    "Because our end goal is to add the app on both Google Play and the App Store, we need to find app profiles that are successful on both markets. For instance, a profile that works well for both markets might be a productivity app that makes use of gamification."
   ],
   "cell_type": "markdown",
   "metadata": {}
  },
  {
   "source": [
    "## Analysis\n",
    "\n",
    "Let's begin the analysis by getting a sense of what are the most common genres for each market."
   ],
   "cell_type": "markdown",
   "metadata": {}
  },
  {
   "cell_type": "code",
   "execution_count": 195,
   "metadata": {},
   "outputs": [
    {
     "output_type": "stream",
     "name": "stdout",
     "text": [
      "Google by Category \n\nFAMILY : 18.9\nGAME : 9.73\nTOOLS : 8.46\nBUSINESS : 4.59\nLIFESTYLE : 3.9\nPRODUCTIVITY : 3.89\nFINANCE : 3.7\nMEDICAL : 3.53\nSPORTS : 3.4\nPERSONALIZATION : 3.32\nCOMMUNICATION : 3.24\nHEALTH_AND_FITNESS : 3.08\nPHOTOGRAPHY : 2.94\nNEWS_AND_MAGAZINES : 2.8\nSOCIAL : 2.66\nTRAVEL_AND_LOCAL : 2.34\nSHOPPING : 2.25\nBOOKS_AND_REFERENCE : 2.14\nDATING : 1.86\nVIDEO_PLAYERS : 1.79\nMAPS_AND_NAVIGATION : 1.4\nFOOD_AND_DRINK : 1.24\nEDUCATION : 1.16\nENTERTAINMENT : 0.96\nLIBRARIES_AND_DEMO : 0.94\nAUTO_AND_VEHICLES : 0.93\nHOUSE_AND_HOME : 0.82\nWEATHER : 0.8\nEVENTS : 0.71\nPARENTING : 0.65\nART_AND_DESIGN : 0.64\nCOMICS : 0.62\nBEAUTY : 0.6\n"
     ]
    }
   ],
   "source": [
    "google_genre_index = [1, 9]\n",
    "apple_genre_index = 12\n",
    "\n",
    "def freq_table(dataset: list, index: int):\n",
    "    table = {}\n",
    "    table_percentage = {}\n",
    "    for app in dataset:\n",
    "        if app[index] in table:\n",
    "            table[app[index]] += 1\n",
    "        else:\n",
    "            table[app[index]] = 1\n",
    "\n",
    "    for genre in table:\n",
    "        table_percentage[genre] = round(table[genre] / len(dataset) * 100, 2)\n",
    "    \n",
    "    return table_percentage\n",
    "\n",
    "def display_table(dataset, index):\n",
    "    table = freq_table(dataset, index)\n",
    "    table_display = []\n",
    "    for key in table:\n",
    "        key_val_as_tuple = (table[key], key)\n",
    "        table_display.append(key_val_as_tuple)\n",
    "\n",
    "    table_sorted = sorted(table_display, reverse = True)\n",
    "    for entry in table_sorted:\n",
    "        print(entry[1], ':', entry[0])\n",
    "\n",
    "print('Google by', google_store_header[google_genre_index[0]], '\\n')\n",
    "display_table(google_free_apps, google_genre_index[0])"
   ]
  },
  {
   "cell_type": "code",
   "execution_count": 196,
   "metadata": {},
   "outputs": [
    {
     "output_type": "stream",
     "name": "stdout",
     "text": [
      "Google by Genres \n\nTools : 8.45\nEntertainment : 6.07\nEducation : 5.35\nBusiness : 4.59\nProductivity : 3.89\nLifestyle : 3.89\nFinance : 3.7\nMedical : 3.53\nSports : 3.46\nPersonalization : 3.32\nCommunication : 3.24\nAction : 3.1\nHealth & Fitness : 3.08\nPhotography : 2.94\nNews & Magazines : 2.8\nSocial : 2.66\nTravel & Local : 2.32\nShopping : 2.25\nBooks & Reference : 2.14\nSimulation : 2.04\nDating : 1.86\nArcade : 1.85\nVideo Players & Editors : 1.77\nCasual : 1.76\nMaps & Navigation : 1.4\nFood & Drink : 1.24\nPuzzle : 1.13\nRacing : 0.99\nRole Playing : 0.94\nLibraries & Demo : 0.94\nAuto & Vehicles : 0.93\nStrategy : 0.9\nHouse & Home : 0.82\nWeather : 0.8\nEvents : 0.71\nAdventure : 0.68\nComics : 0.61\nBeauty : 0.6\nArt & Design : 0.6\nParenting : 0.5\nCard : 0.45\nCasino : 0.43\nTrivia : 0.42\nEducational;Education : 0.39\nBoard : 0.38\nEducational : 0.37\nEducation;Education : 0.34\nWord : 0.26\nCasual;Pretend Play : 0.24\nMusic : 0.2\nRacing;Action & Adventure : 0.17\nPuzzle;Brain Games : 0.17\nEntertainment;Music & Video : 0.17\nCasual;Brain Games : 0.14\nCasual;Action & Adventure : 0.14\nArcade;Action & Adventure : 0.12\nAction;Action & Adventure : 0.1\nEducational;Pretend Play : 0.09\nSimulation;Action & Adventure : 0.08\nParenting;Education : 0.08\nEntertainment;Brain Games : 0.08\nBoard;Brain Games : 0.08\nParenting;Music & Video : 0.07\nEducational;Brain Games : 0.07\nCasual;Creativity : 0.07\nArt & Design;Creativity : 0.07\nEducation;Pretend Play : 0.06\nRole Playing;Pretend Play : 0.05\nEducation;Creativity : 0.05\nRole Playing;Action & Adventure : 0.03\nPuzzle;Action & Adventure : 0.03\nEntertainment;Creativity : 0.03\nEntertainment;Action & Adventure : 0.03\nEducational;Creativity : 0.03\nEducational;Action & Adventure : 0.03\nEducation;Music & Video : 0.03\nEducation;Brain Games : 0.03\nEducation;Action & Adventure : 0.03\nAdventure;Action & Adventure : 0.03\nVideo Players & Editors;Music & Video : 0.02\nSports;Action & Adventure : 0.02\nSimulation;Pretend Play : 0.02\nPuzzle;Creativity : 0.02\nMusic;Music & Video : 0.02\nEntertainment;Pretend Play : 0.02\nCasual;Education : 0.02\nBoard;Action & Adventure : 0.02\nVideo Players & Editors;Creativity : 0.01\nTrivia;Education : 0.01\nTravel & Local;Action & Adventure : 0.01\nTools;Education : 0.01\nStrategy;Education : 0.01\nStrategy;Creativity : 0.01\nStrategy;Action & Adventure : 0.01\nSimulation;Education : 0.01\nRole Playing;Brain Games : 0.01\nRacing;Pretend Play : 0.01\nPuzzle;Education : 0.01\nParenting;Brain Games : 0.01\nMusic & Audio;Music & Video : 0.01\nLifestyle;Pretend Play : 0.01\nLifestyle;Education : 0.01\nHealth & Fitness;Education : 0.01\nHealth & Fitness;Action & Adventure : 0.01\nEntertainment;Education : 0.01\nCommunication;Creativity : 0.01\nComics;Creativity : 0.01\nCasual;Music & Video : 0.01\nCard;Action & Adventure : 0.01\nBooks & Reference;Education : 0.01\nArt & Design;Pretend Play : 0.01\nArt & Design;Action & Adventure : 0.01\nArcade;Pretend Play : 0.01\nAdventure;Education : 0.01\n"
     ]
    }
   ],
   "source": [
    "print('Google by', google_store_header[google_genre_index[1]], '\\n')\n",
    "display_table(google_free_apps, google_genre_index[1])"
   ]
  },
  {
   "cell_type": "code",
   "execution_count": 197,
   "metadata": {},
   "outputs": [
    {
     "output_type": "stream",
     "name": "stdout",
     "text": [
      "Apple by prime_genre \n\nGames : 58.16\nEntertainment : 7.88\nPhoto & Video : 4.97\nEducation : 3.66\nSocial Networking : 3.29\nShopping : 2.61\nUtilities : 2.51\nSports : 2.14\nMusic : 2.05\nHealth & Fitness : 2.02\nProductivity : 1.74\nLifestyle : 1.58\nNews : 1.33\nTravel : 1.24\nFinance : 1.12\nWeather : 0.87\nFood & Drink : 0.81\nReference : 0.56\nBusiness : 0.53\nBook : 0.43\nNavigation : 0.19\nMedical : 0.19\nCatalogs : 0.12\n"
     ]
    }
   ],
   "source": [
    "print('Apple by', apple_store_header[apple_genre_index], '\\n')\n",
    "display_table(apple_free_apps, apple_genre_index)"
   ]
  },
  {
   "source": [
    "The frequency tables we analyzed showed that the App Store is dominated by apps designed for fun, while Google Play shows a more balanced landscape of both practical and fun apps. Now, I'd like to get an idea about the kind of apps with the most users.\n",
    "\n",
    "One way to find out what genres are the most popular (have the most users) is to calculate the average number of installs for each app genre. For the Google Play data set, I can find this information in the Installs column, but this information is missing for the App Store data set. As a workaround, I'll take the total number of user ratings as a proxy, which I can find in the rating_count_tot app."
   ],
   "cell_type": "markdown",
   "metadata": {}
  },
  {
   "cell_type": "code",
   "execution_count": 198,
   "metadata": {},
   "outputs": [
    {
     "output_type": "stream",
     "name": "stdout",
     "text": [
      "Productivity 21,028.41\nWeather 52,279.89\nShopping 26,919.69\nReference 74,942.11\nFinance 31,467.94\nMusic 57,326.53\nUtilities 18,684.46\nTravel 28,243.8\nSocial Networking 71,548.35\nSports 23,008.9\nHealth & Fitness 23,298.02\nGames 22,788.67\nFood & Drink 33,333.92\nNews 21,248.02\nBook 39,758.5\nPhoto & Video 28,441.54\nEntertainment 14,029.83\nBusiness 7,491.12\nLifestyle 16,485.76\nEducation 7,003.98\nNavigation 86,090.33\nMedical 612.0\nCatalogs 4,004.0\n"
     ]
    }
   ],
   "source": [
    "prime_genres = freq_table(apple_free_apps, apple_genre_index)\n",
    "\n",
    "for genre in prime_genres:\n",
    "    total = 0\n",
    "    len_genre = 0\n",
    "\n",
    "    for app in apple_free_apps:\n",
    "        genre_app = app[apple_genre_index]\n",
    "\n",
    "        if genre_app == genre:\n",
    "            rating = float(app[6]) #index of rating_count_tot\n",
    "            total += rating\n",
    "            len_genre += 1\n",
    "\n",
    "    user_rating_avg = round(total / len_genre, 2)\n",
    "    user_rating_avg = \"{:,}\".format(user_rating_avg)\n",
    "    print(genre, user_rating_avg)"
   ]
  },
  {
   "source": [
    "On average, navigation apps have the highest number of user reviews, but this figure is heavily influenced by Waze and Google Maps, which have close to half a million user reviews together:"
   ],
   "cell_type": "markdown",
   "metadata": {}
  },
  {
   "cell_type": "code",
   "execution_count": 199,
   "metadata": {},
   "outputs": [
    {
     "output_type": "stream",
     "name": "stdout",
     "text": [
      "Waze - GPS Navigation, Maps & Real-time Traffic : 345,046\nGeocaching® : 12,811\nImmobilienScout24: Real Estate Search in Germany : 187\nRailway Route Search : 5\nCoPilot GPS – Car Navigation & Offline Maps : 3,582\nGoogle Maps - Navigation & Transit : 154,911\n"
     ]
    }
   ],
   "source": [
    "for app in apple_free_apps:\n",
    "    if app[apple_genre_index] == 'Navigation':\n",
    "        print(app[2], ':', \"{:,}\".format(int(app[6]))) # print name and number of ratings"
   ]
  },
  {
   "source": [
    "The same pattern applies to social networking apps, where the average number is heavily influenced by a few giants like Facebook, Pinterest, Skype, etc. Same applies to music apps, where a few big players like Pandora, Spotify, and Shazam heavily influence the average number.\n",
    "\n",
    "Our aim is to find popular genres, but navigation, social networking or music apps might seem more popular than they really are. The average number of ratings seem to be skewed by very few apps which have hundreds of thousands of user ratings, while the other apps may struggle to get past the 10,000 threshold.\n",
    "\n",
    "Reference apps have 74,942 user ratings on average, but it's actually the Bible and Dictionary.com which skew up the average rating:"
   ],
   "cell_type": "markdown",
   "metadata": {}
  },
  {
   "cell_type": "code",
   "execution_count": 200,
   "metadata": {},
   "outputs": [
    {
     "output_type": "stream",
     "name": "stdout",
     "text": [
      "Bible : 985920\nDictionary.com Dictionary & Thesaurus : 200047\nDictionary.com Dictionary & Thesaurus for iPad : 54175\nMuslim Pro: Ramadan 2017 Prayer Times, Azan, Quran : 18418\nMerriam-Webster Dictionary : 16849\nGoogle Translate : 26786\nNight Sky : 12122\nWWDC : 762\nJishokun-Japanese English Dictionary & Translator : 0\n教えて!goo : 0\nVPN Express : 14\nNew Furniture Mods - Pocket Wiki & Game Tools for Minecraft PC Edition : 17588\nLUCKY BLOCK MOD ™ for Minecraft PC Edition - The Best Pocket Wiki & Mods Installer Tools : 4693\nGuides for Pokémon GO - Pokemon GO News and Cheats : 826\nHorror Maps for Minecraft PE - Download The Scariest Maps for Minecraft Pocket Edition (MCPE) Free : 718\nCity Maps for Minecraft PE - The Best Maps for Minecraft Pocket Edition (MCPE) : 8535\nGUNS MODS for Minecraft PC Edition - Mods Tools : 1497\nReal Bike Traffic Rider Virtual Reality Glasses : 8\n"
     ]
    }
   ],
   "source": [
    "for app in apple_free_apps:\n",
    "    if app[apple_genre_index] == 'Reference':\n",
    "        print(app[2], ':', app[6]) # print name and number of ratings"
   ]
  },
  {
   "source": [
    "However, this niche seems to show some potential. One thing we could do is take another popular book and turn it into an app where we could add different features besides the raw version of the book. This might include daily quotes from the book, an audio version of the book, quizzes about the book, etc. On top of that, we could also embed a dictionary within the app, so users don't need to exit our app to look up words in an external app.\n",
    "\n",
    "This idea seems to fit well with the fact that the App Store is dominated by for-fun apps. This suggests the market might be a bit saturated with for-fun apps, which means a practical app might have more of a chance to stand out among the huge number of apps on the App Store.\n",
    "\n",
    "Other genres that seem popular include weather, book, food and drink, or finance. The book genre seem to overlap a bit with the app idea we described above, but the other genres don't seem too interesting to us:\n",
    "\n",
    "Weather apps — people generally don't spend too much time in-app, and the chances of making profit from in-app adds are low. Also, getting reliable live weather data may require us to connect our apps to non-free APIs.\n",
    "\n",
    "Food and drink — examples here include Starbucks, Dunkin' Donuts, McDonald's, etc. So making a popular food and drink app requires actual cooking and a delivery service, which is outside the scope of our company.\n",
    "\n",
    "Finance apps — these apps involve banking, paying bills, money transfer, etc. Building a finance app requires domain knowledge, and we don't want to hire a finance expert just to build an app.\n",
    "\n",
    "Now let's analyze the Google Play market a bit."
   ],
   "cell_type": "markdown",
   "metadata": {}
  },
  {
   "source": [
    "Most Popular Apps by Genre on Google Play\n",
    "For the Google Play market, we actually have data about the number of installs, so we should be able to get a clearer picture about genre popularity. However, the install numbers don't seem precise enough — we can see that most values are open-ended (100+, 1,000+, 5,000+, etc.)"
   ],
   "cell_type": "markdown",
   "metadata": {}
  },
  {
   "cell_type": "code",
   "execution_count": 201,
   "metadata": {},
   "outputs": [
    {
     "output_type": "stream",
     "name": "stdout",
     "text": [
      "1,000,000+ : 15.73\n100,000+ : 11.55\n10,000,000+ : 10.55\n10,000+ : 10.2\n1,000+ : 8.39\n100+ : 6.92\n5,000,000+ : 6.83\n500,000+ : 5.56\n50,000+ : 4.77\n5,000+ : 4.51\n10+ : 3.54\n500+ : 3.25\n50,000,000+ : 2.3\n100,000,000+ : 2.13\n50+ : 1.92\n5+ : 0.79\n1+ : 0.51\n500,000,000+ : 0.27\n1,000,000,000+ : 0.23\n0+ : 0.05\n"
     ]
    }
   ],
   "source": [
    "display_table(google_free_apps, 5) # 5 is Installs index"
   ]
  },
  {
   "source": [
    "One problem with this data is that is not precise. For instance, we don't know whether an app with 100,000+ installs has 100,000 installs, 200,000, or 350,000. However, we don't need very precise data for our purposes — we only want to get an idea which app genres attract the most users, and we don't need perfect precision with respect to the number of users.\n",
    "\n",
    "We're going to leave the numbers as they are, which means that we'll consider that an app with 100,000+ installs has 100,000 installs, and an app with 1,000,000+ installs has 1,000,000 installs, and so on.\n",
    "\n",
    "To perform computations, however, we'll need to convert each install number to float — this means that we need to remove the commas and the plus characters, otherwise the conversion will fail and raise an error. We'll do this directly in the loop below, where we also compute the average number of installs for each genre (category)."
   ],
   "cell_type": "markdown",
   "metadata": {}
  },
  {
   "cell_type": "code",
   "execution_count": 202,
   "metadata": {},
   "outputs": [
    {
     "output_type": "stream",
     "name": "stdout",
     "text": [
      "ART_AND_DESIGN 1,986,335.09\nAUTO_AND_VEHICLES 647,317.82\nBEAUTY 513,151.89\nBOOKS_AND_REFERENCE 8,767,811.89\nBUSINESS 1,712,290.15\nCOMICS 817,657.27\nCOMMUNICATION 38,456,119.17\nDATING 854,028.83\nEDUCATION 1,833,495.15\nENTERTAINMENT 11,640,705.88\nEVENTS 253,542.22\nFINANCE 1,387,692.48\nFOOD_AND_DRINK 1,924,897.74\nHEALTH_AND_FITNESS 4,188,821.99\nHOUSE_AND_HOME 1,331,540.56\nLIBRARIES_AND_DEMO 638,503.73\nLIFESTYLE 1,437,816.27\nGAME 15,588,015.6\nFAMILY 3,697,848.17\nMEDICAL 120,550.62\nSOCIAL 23,253,652.13\nSHOPPING 7,036,877.31\nPHOTOGRAPHY 17,840,110.4\nSPORTS 3,638,640.14\nTRAVEL_AND_LOCAL 13,984,077.71\nTOOLS 10,801,391.3\nPERSONALIZATION 5,201,482.61\nPRODUCTIVITY 16,787,331.34\nPARENTING 542,603.62\nWEATHER 5,074,486.2\nVIDEO_PLAYERS 24,727,872.45\nNEWS_AND_MAGAZINES 9,549,178.47\nMAPS_AND_NAVIGATION 4,056,941.77\n"
     ]
    }
   ],
   "source": [
    "category_freq = freq_table(google_free_apps, google_genre_index[0])\n",
    "\n",
    "for category in category_freq: # Iterate over unique categories\n",
    "    total = 0\n",
    "    len_category = 0\n",
    "\n",
    "    for app in google_free_apps:\n",
    "        category_app = app[google_genre_index[0]]\n",
    "        if category_app == category:\n",
    "            installs = float(app[5].replace('+', '').replace(',', ''))\n",
    "            total += installs\n",
    "            len_category += 1\n",
    "\n",
    "    installs_avg = round(total / len_category, 2)\n",
    "    formated_installs = \"{:,}\".format(installs_avg)\n",
    "    print(category, formated_installs)\n"
   ]
  },
  {
   "source": [
    "Best looking categories:\n",
    "\n",
    "- COMMUNICATION 38,456,119.17\n",
    "- VIDEO_PLAYERS 24,727,872.45\n",
    "- SOCIAL 23,253,652.13\n",
    "- PHOTOGRAPHY 17,840,110.4\n",
    "- PRODUCTIVITY 16,787,331.34"
   ],
   "cell_type": "markdown",
   "metadata": {}
  },
  {
   "cell_type": "code",
   "execution_count": 203,
   "metadata": {},
   "outputs": [
    {
     "output_type": "stream",
     "name": "stdout",
     "text": [
      "Microsoft Word : 500,000,000+\nMicrosoft Outlook : 100,000,000+\nMicrosoft OneDrive : 100,000,000+\nMicrosoft OneNote : 100,000,000+\nGoogle Keep : 100,000,000+\nES File Explorer File Manager : 100,000,000+\nDropbox : 500,000,000+\nGoogle Docs : 100,000,000+\nMicrosoft PowerPoint : 100,000,000+\nSamsung Notes : 100,000,000+\nSwiftKey Keyboard : 100,000,000+\nGoogle Drive : 1,000,000,000+\nAdobe Acrobat Reader : 100,000,000+\nGoogle Sheets : 100,000,000+\nMicrosoft Excel : 100,000,000+\nWPS Office - Word, Docs, PDF, Note, Slide & Sheet : 100,000,000+\nGoogle Slides : 100,000,000+\nColorNote Notepad Notes : 100,000,000+\nEvernote – Organizer, Planner for Notes & Memos : 100,000,000+\nGoogle Calendar : 500,000,000+\nCloud Print : 500,000,000+\nCamScanner - Phone PDF Creator : 100,000,000+\n"
     ]
    }
   ],
   "source": [
    "for app in google_free_apps:\n",
    "    if app[google_genre_index[0]] == 'PRODUCTIVITY' and (app[5] == '1,000,000,000+' or app[5] == '500,000,000+' or app[5] == '100,000,000+'):\n",
    "        print(app[0], ':', app[5]) # print name and number of ratings"
   ]
  },
  {
   "cell_type": "code",
   "execution_count": 204,
   "metadata": {},
   "outputs": [
    {
     "output_type": "stream",
     "name": "stdout",
     "text": [
      "3,603,485.3884615386\n"
     ]
    }
   ],
   "source": [
    "under_100_m = []\n",
    "\n",
    "for app in google_free_apps:\n",
    "    installs = float(app[5].replace('+', '').replace(',', ''))\n",
    "    if (app[1] == 'COMMUNICATION') and (float(installs) < 100000000):\n",
    "        under_100_m.append(float(installs))\n",
    "        \n",
    "installs_avg = sum(under_100_m) / len(under_100_m)\n",
    "formated_installs_avg = \"{:,}\".format(installs_avg)\n",
    "\n",
    "print(formated_installs_avg)"
   ]
  },
  {
   "source": [
    "We see the same pattern for the video players category, which is the runner-up with 24,727,872 installs. The market is dominated by apps like Youtube, Google Play Movies & TV, or MX Player. The pattern is repeated for social apps (where we have giants like Facebook, Instagram, Google+, etc.), photography apps (Google Photos and other popular photo editors), or productivity apps (Microsoft Word, Dropbox, Google Calendar, Evernote, etc.).\n",
    "\n",
    "Again, the main concern is that these app genres might seem more popular than they really are. Moreover, these niches seem to be dominated by a few giants who are hard to compete against.\n",
    "\n",
    "The game genre seems pretty popular, but previously we found out this part of the market seems a bit saturated, so we'd like to come up with a different app recommendation if possible.\n",
    "\n",
    "The books and reference genre looks fairly popular as well, with an average number of installs of 8,767,811. It's interesting to explore this in more depth, since we found this genre has some potential to work well on the App Store, and our aim is to recommend an app genre that shows potential for being profitable on both the App Store and Google Play.\n",
    "\n",
    "Let's take a look at some of the apps from this genre and their number of installs:"
   ],
   "cell_type": "markdown",
   "metadata": {}
  },
  {
   "cell_type": "code",
   "execution_count": 205,
   "metadata": {},
   "outputs": [
    {
     "output_type": "stream",
     "name": "stdout",
     "text": [
      "E-Book Read - Read Book for free : 50,000+\n",
      "Download free book with green book : 100,000+\n",
      "Wikipedia : 10,000,000+\n",
      "Cool Reader : 10,000,000+\n",
      "Free Panda Radio Music : 100,000+\n",
      "Book store : 1,000,000+\n",
      "FBReader: Favorite Book Reader : 10,000,000+\n",
      "English Grammar Complete Handbook : 500,000+\n",
      "Free Books - Spirit Fanfiction and Stories : 1,000,000+\n",
      "Google Play Books : 1,000,000,000+\n",
      "AlReader -any text book reader : 5,000,000+\n",
      "Offline English Dictionary : 100,000+\n",
      "Offline: English to Tagalog Dictionary : 500,000+\n",
      "FamilySearch Tree : 1,000,000+\n",
      "Cloud of Books : 1,000,000+\n",
      "Recipes of Prophetic Medicine for free : 500,000+\n",
      "ReadEra – free ebook reader : 1,000,000+\n",
      "Anonymous caller detection : 10,000+\n",
      "Ebook Reader : 5,000,000+\n",
      "Litnet - E-books : 100,000+\n",
      "Read books online : 5,000,000+\n",
      "English to Urdu Dictionary : 500,000+\n",
      "eBoox: book reader fb2 epub zip : 1,000,000+\n",
      "English Persian Dictionary : 500,000+\n",
      "Flybook : 500,000+\n",
      "All Maths Formulas : 1,000,000+\n",
      "Ancestry : 5,000,000+\n",
      "HTC Help : 10,000,000+\n",
      "English translation from Bengali : 100,000+\n",
      "Pdf Book Download - Read Pdf Book : 100,000+\n",
      "Free Book Reader : 100,000+\n",
      "eBoox new: Reader for fb2 epub zip books : 50,000+\n",
      "Only 30 days in English, the guideline is guaranteed : 500,000+\n",
      "Moon+ Reader : 10,000,000+\n",
      "SH-02J Owner's Manual (Android 8.0) : 50,000+\n",
      "English-Myanmar Dictionary : 1,000,000+\n",
      "Golden Dictionary (EN-AR) : 1,000,000+\n",
      "All Language Translator Free : 1,000,000+\n",
      "Azpen eReader : 500,000+\n",
      "URBANO V 02 instruction manual : 100,000+\n",
      "Bible : 100,000,000+\n",
      "C Programs and Reference : 50,000+\n",
      "C Offline Tutorial : 1,000+\n",
      "C Programs Handbook : 50,000+\n",
      "Amazon Kindle : 100,000,000+\n",
      "Aab e Hayat Full Novel : 100,000+\n",
      "Aldiko Book Reader : 10,000,000+\n",
      "Google I/O 2018 : 500,000+\n",
      "R Language Reference Guide : 10,000+\n",
      "Learn R Programming Full : 5,000+\n",
      "R Programing Offline Tutorial : 1,000+\n",
      "Guide for R Programming : 5+\n",
      "Learn R Programming : 10+\n",
      "R Quick Reference Big Data : 1,000+\n",
      "V Made : 100,000+\n",
      "Wattpad 📖 Free Books : 100,000,000+\n",
      "Dictionary - WordWeb : 5,000,000+\n",
      "Guide (for X-MEN) : 100,000+\n",
      "AC Air condition Troubleshoot,Repair,Maintenance : 5,000+\n",
      "AE Bulletins : 1,000+\n",
      "Ae Allah na Dai (Rasa) : 10,000+\n",
      "50000 Free eBooks & Free AudioBooks : 5,000,000+\n",
      "Ag PhD Field Guide : 10,000+\n",
      "Ag PhD Deficiencies : 10,000+\n",
      "Ag PhD Planting Population Calculator : 1,000+\n",
      "Ag PhD Soybean Diseases : 1,000+\n",
      "Fertilizer Removal By Crop : 50,000+\n",
      "A-J Media Vault : 50+\n",
      "Al-Quran (Free) : 10,000,000+\n",
      "Al Quran (Tafsir & by Word) : 500,000+\n",
      "Al Quran Indonesia : 10,000,000+\n",
      "Al'Quran Bahasa Indonesia : 10,000,000+\n",
      "Al Quran Al karim : 1,000,000+\n",
      "Al-Muhaffiz : 50,000+\n",
      "Al Quran : EAlim - Translations & MP3 Offline : 5,000,000+\n",
      "Al-Quran 30 Juz free copies : 500,000+\n",
      "Koran Read &MP3 30 Juz Offline : 1,000,000+\n",
      "Hafizi Quran 15 lines per page : 1,000,000+\n",
      "Quran for Android : 10,000,000+\n",
      "Surah Al-Waqiah : 100,000+\n",
      "Hisnul Al Muslim - Hisn Invocations & Adhkaar : 100,000+\n",
      "Satellite AR : 1,000,000+\n",
      "Audiobooks from Audible : 100,000,000+\n",
      "Kinot & Eichah for Tisha B'Av : 10,000+\n",
      "AW Tozer Devotionals - Daily : 5,000+\n",
      "Tozer Devotional -Series 1 : 1,000+\n",
      "The Pursuit of God : 1,000+\n",
      "AY Sing : 5,000+\n",
      "Ay Hasnain k Nana Milad Naat : 10,000+\n",
      "Ay Mohabbat Teri Khatir Novel : 10,000+\n",
      "Arizona Statutes, ARS (AZ Law) : 1,000+\n",
      "Oxford A-Z of English Usage : 1,000,000+\n",
      "BD Fishpedia : 1,000+\n",
      "BD All Sim Offer : 10,000+\n",
      "Youboox - Livres, BD et magazines : 500,000+\n",
      "B&H Kids AR : 10,000+\n",
      "B y H Niños ES : 5,000+\n",
      "Dictionary.com: Find Definitions for English Words : 10,000,000+\n",
      "English Dictionary - Offline : 10,000,000+\n",
      "Bible KJV : 5,000,000+\n",
      "Borneo Bible, BM Bible : 10,000+\n",
      "MOD Black for BM : 100+\n",
      "BM Box : 1,000+\n",
      "Anime Mod for BM : 100+\n",
      "NOOK: Read eBooks & Magazines : 10,000,000+\n",
      "NOOK Audiobooks : 500,000+\n",
      "NOOK App for NOOK Devices : 500,000+\n",
      "Browsery by Barnes & Noble : 5,000+\n",
      "bp e-store : 1,000+\n",
      "Brilliant Quotes: Life, Love, Family & Motivation : 1,000,000+\n",
      "BR Ambedkar Biography & Quotes : 10,000+\n",
      "BU Alsace : 100+\n",
      "Catholic La Bu Zo Kam : 500+\n",
      "Khrifa Hla Bu (Solfa) : 10+\n",
      "Kristian Hla Bu : 10,000+\n",
      "SA HLA BU : 1,000+\n",
      "Learn SAP BW : 500+\n",
      "Learn SAP BW on HANA : 500+\n",
      "CA Laws 2018 (California Laws and Codes) : 5,000+\n",
      "Bootable Methods(USB-CD-DVD) : 10,000+\n",
      "cloudLibrary : 100,000+\n",
      "SDA Collegiate Quarterly : 500+\n",
      "Sabbath School : 100,000+\n",
      "Cypress College Library : 100+\n",
      "Stats Royale for Clash Royale : 1,000,000+\n",
      "GATE 21 years CS Papers(2011-2018 Solved) : 50+\n",
      "Learn CT Scan Of Head : 5,000+\n",
      "Easy Cv maker 2018 : 10,000+\n",
      "How to Write CV : 100,000+\n",
      "CW Nuclear : 1,000+\n",
      "CY Spray nozzle : 10+\n",
      "BibleRead En Cy Zh Yue : 5+\n",
      "CZ-Help : 5+\n",
      "Modlitební knížka CZ : 500+\n",
      "Guide for DB Xenoverse : 10,000+\n",
      "Guide for DB Xenoverse 2 : 10,000+\n",
      "Guide for IMS DB : 10+\n",
      "DC HSEMA : 5,000+\n",
      "DC Public Library : 1,000+\n",
      "Painting Lulu DC Super Friends : 1,000+\n",
      "Dictionary : 10,000,000+\n",
      "Fix Error Google Playstore : 1,000+\n",
      "D. H. Lawrence Poems FREE : 1,000+\n",
      "Bilingual Dictionary Audio App : 5,000+\n",
      "DM Screen : 10,000+\n",
      "wikiHow: how to do anything : 1,000,000+\n",
      "Dr. Doug's Tips : 1,000+\n",
      "Bible du Semeur-BDS (French) : 50,000+\n",
      "La citadelle du musulman : 50,000+\n",
      "DV 2019 Entry Guide : 10,000+\n",
      "DV 2019 - EDV Photo & Form : 50,000+\n",
      "DV 2018 Winners Guide : 1,000+\n",
      "EB Annual Meetings : 1,000+\n",
      "EC - AP & Telangana : 5,000+\n",
      "TN Patta Citta & EC : 10,000+\n",
      "AP Stamps and Registration : 10,000+\n",
      "CompactiMa EC pH Calibration : 100+\n",
      "EGW Writings 2 : 100,000+\n",
      "EGW Writings : 1,000,000+\n",
      "Bible with EGW Comments : 100,000+\n",
      "My Little Pony AR Guide : 1,000,000+\n",
      "SDA Sabbath School Quarterly : 500,000+\n",
      "Duaa Ek Ibaadat : 5,000+\n",
      "Spanish English Translator : 10,000,000+\n",
      "Dictionary - Merriam-Webster : 10,000,000+\n",
      "JW Library : 10,000,000+\n",
      "Oxford Dictionary of English : Free : 10,000,000+\n",
      "English Hindi Dictionary : 10,000,000+\n",
      "English to Hindi Dictionary : 5,000,000+\n",
      "EP Research Service : 1,000+\n",
      "Hymnes et Louanges : 100,000+\n",
      "EU Charter : 1,000+\n",
      "EU Data Protection : 1,000+\n",
      "EU IP Codes : 100+\n",
      "EW PDF : 5+\n",
      "BakaReader EX : 100,000+\n",
      "EZ Quran : 50,000+\n",
      "FA Part 1 & 2 Past Papers Solved Free – Offline : 5,000+\n",
      "La Fe de Jesus : 1,000+\n",
      "La Fe de Jesús : 500+\n",
      "Le Fe de Jesus : 500+\n",
      "Florida - Pocket Brainbook : 1,000+\n",
      "Florida Statutes (FL Code) : 1,000+\n",
      "English To Shona Dictionary : 10,000+\n",
      "Greek Bible FP (Audio) : 1,000+\n",
      "Golden Dictionary (FR-AR) : 500,000+\n",
      "Fanfic-FR : 5,000+\n",
      "Bulgarian French Dictionary Fr : 10,000+\n",
      "Chemin (fr) : 1,000+\n",
      "The SCP Foundation DB fr nn5n : 1,000+\n"
     ]
    }
   ],
   "source": [
    "for app in google_free_apps:\n",
    "    if app[google_genre_index[0]] == 'BOOKS_AND_REFERENCE':\n",
    "        print(app[0], ':', app[5])"
   ]
  },
  {
   "source": [
    "The book and reference genre includes a variety of apps: software for processing and reading ebooks, various collections of libraries, dictionaries, tutorials on programming or languages, etc. It seems there's still a small number of extremely popular apps that skew the average:\n",
    "\n"
   ],
   "cell_type": "markdown",
   "metadata": {}
  },
  {
   "cell_type": "code",
   "execution_count": 206,
   "metadata": {},
   "outputs": [
    {
     "output_type": "stream",
     "name": "stdout",
     "text": [
      "Google Play Books : 1,000,000,000+\nBible : 100,000,000+\nAmazon Kindle : 100,000,000+\nWattpad 📖 Free Books : 100,000,000+\nAudiobooks from Audible : 100,000,000+\n"
     ]
    }
   ],
   "source": [
    "for app in google_free_apps:\n",
    "    if app[google_genre_index[0]] == 'BOOKS_AND_REFERENCE' and (app[5] == '1,000,000,000+' or app[5] == '500,000,000+' or app[5] == '100,000,000+'):\n",
    "        print(app[0], ':', app[5]) # print name and number of ratings"
   ]
  },
  {
   "source": [
    "However, it looks like there are only a few very popular apps, so this market still shows potential. Let's try to get some app ideas based on the kind of apps that are somewhere in the middle in terms of popularity (between 1,000,000 and 100,000,000 downloads):"
   ],
   "cell_type": "markdown",
   "metadata": {}
  },
  {
   "cell_type": "code",
   "execution_count": 207,
   "metadata": {},
   "outputs": [
    {
     "output_type": "stream",
     "name": "stdout",
     "text": [
      "Wikipedia : 10,000,000+\nCool Reader : 10,000,000+\nBook store : 1,000,000+\nFBReader: Favorite Book Reader : 10,000,000+\nFree Books - Spirit Fanfiction and Stories : 1,000,000+\nAlReader -any text book reader : 5,000,000+\nFamilySearch Tree : 1,000,000+\nCloud of Books : 1,000,000+\nReadEra – free ebook reader : 1,000,000+\nEbook Reader : 5,000,000+\nRead books online : 5,000,000+\neBoox: book reader fb2 epub zip : 1,000,000+\nAll Maths Formulas : 1,000,000+\nAncestry : 5,000,000+\nHTC Help : 10,000,000+\nMoon+ Reader : 10,000,000+\nEnglish-Myanmar Dictionary : 1,000,000+\nGolden Dictionary (EN-AR) : 1,000,000+\nAll Language Translator Free : 1,000,000+\nAldiko Book Reader : 10,000,000+\nDictionary - WordWeb : 5,000,000+\n50000 Free eBooks & Free AudioBooks : 5,000,000+\nAl-Quran (Free) : 10,000,000+\nAl Quran Indonesia : 10,000,000+\nAl'Quran Bahasa Indonesia : 10,000,000+\nAl Quran Al karim : 1,000,000+\nAl Quran : EAlim - Translations & MP3 Offline : 5,000,000+\nKoran Read &MP3 30 Juz Offline : 1,000,000+\nHafizi Quran 15 lines per page : 1,000,000+\nQuran for Android : 10,000,000+\nSatellite AR : 1,000,000+\nOxford A-Z of English Usage : 1,000,000+\nDictionary.com: Find Definitions for English Words : 10,000,000+\nEnglish Dictionary - Offline : 10,000,000+\nBible KJV : 5,000,000+\nNOOK: Read eBooks & Magazines : 10,000,000+\nBrilliant Quotes: Life, Love, Family & Motivation : 1,000,000+\nStats Royale for Clash Royale : 1,000,000+\nDictionary : 10,000,000+\nwikiHow: how to do anything : 1,000,000+\nEGW Writings : 1,000,000+\nMy Little Pony AR Guide : 1,000,000+\nSpanish English Translator : 10,000,000+\nDictionary - Merriam-Webster : 10,000,000+\nJW Library : 10,000,000+\nOxford Dictionary of English : Free : 10,000,000+\nEnglish Hindi Dictionary : 10,000,000+\nEnglish to Hindi Dictionary : 5,000,000+\n"
     ]
    }
   ],
   "source": [
    "for app in google_free_apps:\n",
    "    if app[google_genre_index[0]] == 'BOOKS_AND_REFERENCE' and (app[5] == '1,000,000+'\n",
    "                                            or app[5] == '5,000,000+'\n",
    "                                            or app[5] == '10,000,000+'\n",
    "                                            or app[5] == '50,000,000+'):\n",
    "        print(app[0], ':', app[5])"
   ]
  },
  {
   "source": [
    "This niche seems to be dominated by software for processing and reading ebooks, as well as various collections of libraries and dictionaries, so it's probably not a good idea to build similar apps since there'll be some significant competition.\n",
    "\n",
    "We also notice there are quite a few apps built around the book Quran, which suggests that building an app around a popular book can be profitable. It seems that taking a popular book (perhaps a more recent book) and turning it into an app could be profitable for both the Google Play and the App Store markets.\n",
    "\n",
    "However, it looks like the market is already full of libraries, so we need to add some special features besides the raw version of the book. This might include daily quotes from the book, an audio version of the book, quizzes on the book, a forum where people can discuss the book, etc.\n",
    "\n",
    "## Conclusions\n",
    "In this project, we analyzed data about the App Store and Google Play mobile apps with the goal of recommending an app profile that can be profitable for both markets.\n",
    "\n",
    "We concluded that taking a popular book (perhaps a more recent book) and turning it into an app could be profitable for both the Google Play and the App Store markets. The markets are already full of libraries, so we need to add some special features besides the raw version of the book. This might include daily quotes from the book, an audio version of the book, quizzes on the book, a forum where people can discuss the book, etc."
   ],
   "cell_type": "markdown",
   "metadata": {}
  }
 ]
}