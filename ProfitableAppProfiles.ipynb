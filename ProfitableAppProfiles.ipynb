{
 "metadata": {
  "language_info": {
   "codemirror_mode": {
    "name": "ipython",
    "version": 3
   },
   "file_extension": ".py",
   "mimetype": "text/x-python",
   "name": "python",
   "nbconvert_exporter": "python",
   "pygments_lexer": "ipython3",
   "version": "3.8.5-final"
  },
  "orig_nbformat": 2,
  "kernelspec": {
   "name": "python3",
   "display_name": "Python 3"
  }
 },
 "nbformat": 4,
 "nbformat_minor": 2,
 "cells": [
  {
   "source": [
    "# Profitable App Profiles for the App Store and Google Play Markets\n",
    "\n",
    "This project is about applications published in App Store and Google Play Markets. The goal is to find and analyze most profitable, free apps.\n",
    "We are interested in apps directed toward an English-speaking audience."
   ],
   "cell_type": "markdown",
   "metadata": {}
  },
  {
   "cell_type": "code",
   "execution_count": 39,
   "metadata": {
    "tags": []
   },
   "outputs": [],
   "source": [
    "from csv import reader\n",
    "\n",
    "open_file = open('./data/AppleStore.csv')\n",
    "read_file = reader(open_file)\n",
    "apple_store_list = list(read_file)\n",
    "apple_store_header = apple_store_list[0]\n",
    "apple_store_data = apple_store_list[1:]\n",
    "\n",
    "open_file = open('./data/GooglePlayStore.csv')\n",
    "read_file = reader(open_file)\n",
    "google_store_list = list(read_file)\n",
    "google_store_header = google_store_list[0]\n",
    "google_store_data = google_store_list[1:] \n",
    "\n",
    "def explore_data(dataset: list, start: int, end: int, rows_and_columns=False):\n",
    "    dataset_slice = dataset[start:end]\n",
    "    \n",
    "    for row in dataset_slice:\n",
    "        print(row, '\\n')\n",
    "\n",
    "    if rows_and_columns:\n",
    "        print('Number of rows:', len(dataset))\n",
    "        print('Number of columns:', len(dataset[0]))\n"
   ]
  },
  {
   "cell_type": "code",
   "execution_count": 40,
   "metadata": {},
   "outputs": [
    {
     "output_type": "stream",
     "name": "stdout",
     "text": [
      "Apple Store Data: \n\n['', 'id', 'track_name', 'size_bytes', 'currency', 'price', 'rating_count_tot', 'rating_count_ver', 'user_rating', 'user_rating_ver', 'ver', 'cont_rating', 'prime_genre', 'sup_devices.num', 'ipadSc_urls.num', 'lang.num', 'vpp_lic'] \n\n['1', '281656475', 'PAC-MAN Premium', '100788224', 'USD', '3.99', '21292', '26', '4', '4.5', '6.3.5', '4+', 'Games', '38', '5', '10', '1'] \n\n['2', '281796108', 'Evernote - stay organized', '158578688', 'USD', '0', '161065', '26', '4', '3.5', '8.2.2', '4+', 'Productivity', '37', '5', '23', '1'] \n\n['3', '281940292', 'WeatherBug - Local Weather, Radar, Maps, Alerts', '100524032', 'USD', '0', '188583', '2822', '3.5', '4.5', '5.0.0', '4+', 'Weather', '37', '5', '3', '1'] \n\n['4', '282614216', 'eBay: Best App to Buy, Sell, Save! Online Shopping', '128512000', 'USD', '0', '262241', '649', '4', '4.5', '5.10.0', '12+', 'Shopping', '37', '5', '9', '1'] \n\n['5', '282935706', 'Bible', '92774400', 'USD', '0', '985920', '5320', '4.5', '5', '7.5.1', '4+', 'Reference', '37', '5', '45', '1'] \n\nNumber of rows: 7197\nNumber of columns: 17\n"
     ]
    }
   ],
   "source": [
    "print('Apple Store Data: \\n')\n",
    "print(apple_store_header, '\\n')\n",
    "explore_data(dataset=apple_store_data, start=0, end=5, rows_and_columns=True)"
   ]
  },
  {
   "cell_type": "code",
   "execution_count": 41,
   "metadata": {},
   "outputs": [
    {
     "output_type": "stream",
     "name": "stdout",
     "text": [
      "Google Play Store Data: \n\n['App', 'Category', 'Rating', 'Reviews', 'Size', 'Installs', 'Type', 'Price', 'Content Rating', 'Genres', 'Last Updated', 'Current Ver', 'Android Ver'] \n\n['Photo Editor & Candy Camera & Grid & ScrapBook', 'ART_AND_DESIGN', '4.1', '159', '19M', '10,000+', 'Free', '0', 'Everyone', 'Art & Design', 'January 7, 2018', '1.0.0', '4.0.3 and up'] \n\n['Coloring book moana', 'ART_AND_DESIGN', '3.9', '967', '14M', '500,000+', 'Free', '0', 'Everyone', 'Art & Design;Pretend Play', 'January 15, 2018', '2.0.0', '4.0.3 and up'] \n\n['U Launcher Lite – FREE Live Cool Themes, Hide Apps', 'ART_AND_DESIGN', '4.7', '87510', '8.7M', '5,000,000+', 'Free', '0', 'Everyone', 'Art & Design', 'August 1, 2018', '1.2.4', '4.0.3 and up'] \n\n['Sketch - Draw & Paint', 'ART_AND_DESIGN', '4.5', '215644', '25M', '50,000,000+', 'Free', '0', 'Teen', 'Art & Design', 'June 8, 2018', 'Varies with device', '4.2 and up'] \n\n['Pixel Draw - Number Art Coloring Book', 'ART_AND_DESIGN', '4.3', '967', '2.8M', '100,000+', 'Free', '0', 'Everyone', 'Art & Design;Creativity', 'June 20, 2018', '1.1', '4.4 and up'] \n\nNumber of rows: 10841\nNumber of columns: 13\n"
     ]
    }
   ],
   "source": [
    "print('Google Play Store Data: \\n')\n",
    "print(google_store_header, '\\n')\n",
    "explore_data(dataset=google_store_data, start=0, end=5, rows_and_columns=True)"
   ]
  },
  {
   "source": [
    "Data Cleaning. As part of data cleanng proccess we want to:\n",
    "- remove non-english apps\n",
    "- remove apps that are not free\n",
    "- remove or fix incorrect app data - remove rows with incorrect number of columns\n",
    "- remove duplicates"
   ],
   "cell_type": "markdown",
   "metadata": {}
  },
  {
   "source": [
    "1. Track and remove rows with incorrect number of columns"
   ],
   "cell_type": "markdown",
   "metadata": {}
  },
  {
   "cell_type": "code",
   "execution_count": 42,
   "metadata": {},
   "outputs": [
    {
     "output_type": "stream",
     "name": "stdout",
     "text": [
      "Apple Store:\nGoogle Play Store:\ndata:  ['Life Made WI-Fi Touchscreen Photo Frame', '1.9', '19', '3.0M', '1,000+', 'Free', '0', 'Everyone', '', 'February 11, 2018', '1.0.19', '4.0 and up']\nlength:  12\nindex:  10472\n"
     ]
    }
   ],
   "source": [
    "def validate_cols(dataset: list, header: list):\n",
    "    for i, row in enumerate(dataset):\n",
    "        if len(row) != len(header):\n",
    "            print('data: ', row)\n",
    "            print('length: ', len(row))\n",
    "            print('index: ', i)\n",
    "\n",
    "print('Apple Store:')\n",
    "validate_cols(apple_store_data, apple_store_header)\n",
    "\n",
    "print('Google Play Store:')\n",
    "validate_cols(google_store_data, google_store_header)"
   ]
  },
  {
   "source": [
    "We found only one invalid row. Now we can simply delete it."
   ],
   "cell_type": "markdown",
   "metadata": {}
  },
  {
   "cell_type": "code",
   "execution_count": 43,
   "metadata": {},
   "outputs": [],
   "source": [
    "del(google_store_data[10472])\n",
    "validate_cols(google_store_data, google_store_header)"
   ]
  },
  {
   "source": [
    "2. Find and remove duplicates\n",
    "\n"
   ],
   "cell_type": "markdown",
   "metadata": {}
  },
  {
   "cell_type": "code",
   "execution_count": 44,
   "metadata": {
    "tags": []
   },
   "outputs": [
    {
     "output_type": "stream",
     "name": "stdout",
     "text": [
      "Google:\n",
      "Number of duplicates: 1181\n",
      "Sample: ['Quick PDF Scanner + OCR FREE', 'Box', 'Google My Business', 'ZOOM Cloud Meetings', 'join.me - Simple Meetings']\n",
      "Apple:\n",
      "Number of duplicates: 0\n"
     ]
    }
   ],
   "source": [
    "def find_duplicates(dataset: list, name_index: int):\n",
    "    unique_apps = []\n",
    "    duplicate_apps = []\n",
    "\n",
    "    for row in dataset:\n",
    "        if row[name_index] in unique_apps:\n",
    "            duplicate_apps.append(row[name_index])\n",
    "        else:\n",
    "            unique_apps.append(row[name_index])\n",
    "\n",
    "    return duplicate_apps\n",
    "\n",
    "google_store_duplicates = find_duplicates(google_store_data, 0)\n",
    "\n",
    "print('Google:')\n",
    "print('Number of duplicates:', len(google_store_duplicates))\n",
    "print('Sample:', google_store_duplicates[:5])\n",
    "\n",
    "apple_store_duplicates = find_duplicates(apple_store_data, 1)\n",
    "\n",
    "print('Apple:')\n",
    "print('Number of duplicates:', len(apple_store_duplicates))"
   ]
  },
  {
   "source": [
    "There is a lot of duplicates in google store dataset. Will list some below:"
   ],
   "cell_type": "markdown",
   "metadata": {}
  },
  {
   "cell_type": "code",
   "execution_count": 45,
   "metadata": {},
   "outputs": [
    {
     "output_type": "stream",
     "name": "stdout",
     "text": [
      "['Quick PDF Scanner + OCR FREE', 'BUSINESS', '4.2', '80805', 'Varies with device', '5,000,000+', 'Free', '0', 'Everyone', 'Business', 'February 26, 2018', 'Varies with device', '4.0.3 and up']\n['Quick PDF Scanner + OCR FREE', 'BUSINESS', '4.2', '80805', 'Varies with device', '5,000,000+', 'Free', '0', 'Everyone', 'Business', 'February 26, 2018', 'Varies with device', '4.0.3 and up']\n['Quick PDF Scanner + OCR FREE', 'BUSINESS', '4.2', '80804', 'Varies with device', '5,000,000+', 'Free', '0', 'Everyone', 'Business', 'February 26, 2018', 'Varies with device', '4.0.3 and up']\n"
     ]
    }
   ],
   "source": [
    "for app in google_store_data:\n",
    "    if app[0] == 'Quick PDF Scanner + OCR FREE':\n",
    "        print(app)"
   ]
  },
  {
   "source": [
    "The only difference is number in fourth cell, which is number of reviews. That means that data was scraped multiple times. We want preserve only most recent data which is indicated by highest number of reviews given."
   ],
   "cell_type": "markdown",
   "metadata": {}
  },
  {
   "cell_type": "code",
   "execution_count": 46,
   "metadata": {},
   "outputs": [
    {
     "output_type": "execute_result",
     "data": {
      "text/plain": [
       "9659"
      ]
     },
     "metadata": {},
     "execution_count": 46
    }
   ],
   "source": [
    "reviews_max = {}\n",
    "\n",
    "for app in google_store_data:\n",
    "    name = app[0]\n",
    "    n_reviews = float(app[3])\n",
    "\n",
    "    if name in reviews_max and reviews_max[name] < n_reviews:\n",
    "        reviews_max[name] = n_reviews\n",
    "    elif name not in reviews_max:\n",
    "        reviews_max[name] = n_reviews\n",
    "\n",
    "len(reviews_max)        "
   ]
  },
  {
   "cell_type": "code",
   "execution_count": 47,
   "metadata": {},
   "outputs": [
    {
     "output_type": "execute_result",
     "data": {
      "text/plain": [
       "9659"
      ]
     },
     "metadata": {},
     "execution_count": 47
    }
   ],
   "source": [
    "android_clean = [] # Stores data without duplicates.\n",
    "already_added = [] # Stores names of already added apps.\n",
    "\n",
    "for app in google_store_data:\n",
    "    name = app[0]\n",
    "    n_reviews = float(app[3])\n",
    "\n",
    "    if n_reviews == reviews_max[name] and name not in already_added:\n",
    "        android_clean.append(app)\n",
    "        already_added.append(name)\n",
    "\n",
    "len(android_clean)"
   ]
  },
  {
   "source": [
    "3. Having data cleaned from duplicates I will continue with next step of data cleaning proccess - removing non-english apps. We are using ASCII range which (0 - 127). I have decided to allow maximum of 3 non-ASCII signs so that apps with emojis in title will not be filtered out."
   ],
   "cell_type": "markdown",
   "metadata": {}
  },
  {
   "cell_type": "code",
   "execution_count": 48,
   "metadata": {},
   "outputs": [
    {
     "output_type": "execute_result",
     "data": {
      "text/plain": [
       "True"
      ]
     },
     "metadata": {},
     "execution_count": 48
    }
   ],
   "source": [
    "def is_english(name):\n",
    "    n_invalid_chars = 0\n",
    "    \n",
    "    for letter in name:\n",
    "        if ord(letter) > 127: # ASCII range\n",
    "            n_invalid_chars += 1\n",
    "\n",
    "    if n_invalid_chars > 3: # 3 non-ASCII signs threshold\n",
    "        return False\n",
    "\n",
    "    return True\n",
    "\n",
    "is_english('Instachat')"
   ]
  },
  {
   "cell_type": "code",
   "execution_count": 49,
   "metadata": {},
   "outputs": [
    {
     "output_type": "stream",
     "name": "stdout",
     "text": [
      "9614\n6183\n"
     ]
    }
   ],
   "source": [
    "google_english = []\n",
    "apple_english = [] \n",
    "\n",
    "for app in android_clean:\n",
    "    if is_english(app[0]): # 0 is app name index\n",
    "        google_english.append(app)\n",
    "\n",
    "for app in apple_store_data:\n",
    "    if is_english(app[2]): # 2 is app name index\n",
    "        apple_english.append(app)\n",
    "\n",
    "print(len(google_english))\n",
    "print(len(apple_english))\n"
   ]
  },
  {
   "source": [
    "4. Last step in data cleaning process is to filter out non-free apps."
   ],
   "cell_type": "markdown",
   "metadata": {}
  },
  {
   "cell_type": "code",
   "execution_count": 50,
   "metadata": {
    "tags": []
   },
   "outputs": [
    {
     "output_type": "stream",
     "name": "stdout",
     "text": [
      "8863\n3222\n"
     ]
    }
   ],
   "source": [
    "google_price_index = 6\n",
    "apple_price_index = 5\n",
    "\n",
    "google_free_apps = [app for app in google_english if app[google_price_index] == 'Free']\n",
    "apple_free_apps = [app for app in apple_english if float(app[apple_price_index]) == 0]\n",
    "\n",
    "print(len(google_free_apps))\n",
    "print(len(apple_free_apps))\n"
   ]
  },
  {
   "source": [
    "So far, we spent a good amount of time on cleaning data, and:\n",
    "\n",
    "Removed inaccurate data\n",
    "Removed duplicate app entries\n",
    "Removed non-English apps\n",
    "Isolated the free apps\n",
    "As we mentioned in the introduction, our aim is to determine the kinds of apps that are likely to attract more users because our revenue is highly influenced by the number of people using our apps.\n",
    "\n",
    "To minimize risks and overhead, our validation strategy for an app idea is comprised of three steps:\n",
    "\n",
    "Build a minimal Android version of the app, and add it to Google Play.\n",
    "If the app has a good response from users, we develop it further.\n",
    "If the app is profitable after six months, we build an iOS version of the app and add it to the App Store.\n",
    "Because our end goal is to add the app on both Google Play and the App Store, we need to find app profiles that are successful on both markets. For instance, a profile that works well for both markets might be a productivity app that makes use of gamification.\n",
    "\n",
    "Let's begin the analysis by getting a sense of what are the most common genres for each market."
   ],
   "cell_type": "markdown",
   "metadata": {}
  },
  {
   "cell_type": "code",
   "execution_count": 51,
   "metadata": {},
   "outputs": [
    {
     "output_type": "stream",
     "name": "stdout",
     "text": [
      "FAMILY : 18.9\nGAME : 9.73\nTOOLS : 8.46\nBUSINESS : 4.59\nLIFESTYLE : 3.9\nPRODUCTIVITY : 3.89\nFINANCE : 3.7\nMEDICAL : 3.53\nSPORTS : 3.4\nPERSONALIZATION : 3.32\nCOMMUNICATION : 3.24\nHEALTH_AND_FITNESS : 3.08\nPHOTOGRAPHY : 2.94\nNEWS_AND_MAGAZINES : 2.8\nSOCIAL : 2.66\nTRAVEL_AND_LOCAL : 2.34\nSHOPPING : 2.25\nBOOKS_AND_REFERENCE : 2.14\nDATING : 1.86\nVIDEO_PLAYERS : 1.79\nMAPS_AND_NAVIGATION : 1.4\nFOOD_AND_DRINK : 1.24\nEDUCATION : 1.16\nENTERTAINMENT : 0.96\nLIBRARIES_AND_DEMO : 0.94\nAUTO_AND_VEHICLES : 0.93\nHOUSE_AND_HOME : 0.82\nWEATHER : 0.8\nEVENTS : 0.71\nPARENTING : 0.65\nART_AND_DESIGN : 0.64\nCOMICS : 0.62\nBEAUTY : 0.6\nTools : 8.45\nEntertainment : 6.07\nEducation : 5.35\nBusiness : 4.59\nProductivity : 3.89\nLifestyle : 3.89\nFinance : 3.7\nMedical : 3.53\nSports : 3.46\nPersonalization : 3.32\nCommunication : 3.24\nAction : 3.1\nHealth & Fitness : 3.08\nPhotography : 2.94\nNews & Magazines : 2.8\nSocial : 2.66\nTravel & Local : 2.32\nShopping : 2.25\nBooks & Reference : 2.14\nSimulation : 2.04\nDating : 1.86\nArcade : 1.85\nVideo Players & Editors : 1.77\nCasual : 1.76\nMaps & Navigation : 1.4\nFood & Drink : 1.24\nPuzzle : 1.13\nRacing : 0.99\nRole Playing : 0.94\nLibraries & Demo : 0.94\nAuto & Vehicles : 0.93\nStrategy : 0.9\nHouse & Home : 0.82\nWeather : 0.8\nEvents : 0.71\nAdventure : 0.68\nComics : 0.61\nBeauty : 0.6\nArt & Design : 0.6\nParenting : 0.5\nCard : 0.45\nCasino : 0.43\nTrivia : 0.42\nEducational;Education : 0.39\nBoard : 0.38\nEducational : 0.37\nEducation;Education : 0.34\nWord : 0.26\nCasual;Pretend Play : 0.24\nMusic : 0.2\nRacing;Action & Adventure : 0.17\nPuzzle;Brain Games : 0.17\nEntertainment;Music & Video : 0.17\nCasual;Brain Games : 0.14\nCasual;Action & Adventure : 0.14\nArcade;Action & Adventure : 0.12\nAction;Action & Adventure : 0.1\nEducational;Pretend Play : 0.09\nSimulation;Action & Adventure : 0.08\nParenting;Education : 0.08\nEntertainment;Brain Games : 0.08\nBoard;Brain Games : 0.08\nParenting;Music & Video : 0.07\nEducational;Brain Games : 0.07\nCasual;Creativity : 0.07\nArt & Design;Creativity : 0.07\nEducation;Pretend Play : 0.06\nRole Playing;Pretend Play : 0.05\nEducation;Creativity : 0.05\nRole Playing;Action & Adventure : 0.03\nPuzzle;Action & Adventure : 0.03\nEntertainment;Creativity : 0.03\nEntertainment;Action & Adventure : 0.03\nEducational;Creativity : 0.03\nEducational;Action & Adventure : 0.03\nEducation;Music & Video : 0.03\nEducation;Brain Games : 0.03\nEducation;Action & Adventure : 0.03\nAdventure;Action & Adventure : 0.03\nVideo Players & Editors;Music & Video : 0.02\nSports;Action & Adventure : 0.02\nSimulation;Pretend Play : 0.02\nPuzzle;Creativity : 0.02\nMusic;Music & Video : 0.02\nEntertainment;Pretend Play : 0.02\nCasual;Education : 0.02\nBoard;Action & Adventure : 0.02\nVideo Players & Editors;Creativity : 0.01\nTrivia;Education : 0.01\nTravel & Local;Action & Adventure : 0.01\nTools;Education : 0.01\nStrategy;Education : 0.01\nStrategy;Creativity : 0.01\nStrategy;Action & Adventure : 0.01\nSimulation;Education : 0.01\nRole Playing;Brain Games : 0.01\nRacing;Pretend Play : 0.01\nPuzzle;Education : 0.01\nParenting;Brain Games : 0.01\nMusic & Audio;Music & Video : 0.01\nLifestyle;Pretend Play : 0.01\nLifestyle;Education : 0.01\nHealth & Fitness;Education : 0.01\nHealth & Fitness;Action & Adventure : 0.01\nEntertainment;Education : 0.01\nCommunication;Creativity : 0.01\nComics;Creativity : 0.01\nCasual;Music & Video : 0.01\nCard;Action & Adventure : 0.01\nBooks & Reference;Education : 0.01\nArt & Design;Pretend Play : 0.01\nArt & Design;Action & Adventure : 0.01\nArcade;Pretend Play : 0.01\nAdventure;Education : 0.01\nGames : 58.16\nEntertainment : 7.88\nPhoto & Video : 4.97\nEducation : 3.66\nSocial Networking : 3.29\nShopping : 2.61\nUtilities : 2.51\nSports : 2.14\nMusic : 2.05\nHealth & Fitness : 2.02\nProductivity : 1.74\nLifestyle : 1.58\nNews : 1.33\nTravel : 1.24\nFinance : 1.12\nWeather : 0.87\nFood & Drink : 0.81\nReference : 0.56\nBusiness : 0.53\nBook : 0.43\nNavigation : 0.19\nMedical : 0.19\nCatalogs : 0.12\n"
     ]
    }
   ],
   "source": [
    "google_genre_index = [1, 9]\n",
    "apple_genre_index = 12\n",
    "\n",
    "def freq_table(dataset: list, index: int):\n",
    "    table = {}\n",
    "    table_percentage = {}\n",
    "    for app in dataset:\n",
    "        if app[index] in table:\n",
    "            table[app[index]] += 1\n",
    "        else:\n",
    "            table[app[index]] = 1\n",
    "\n",
    "    for genre in table:\n",
    "        table_percentage[genre] = round(table[genre] / len(dataset) * 100, 2)\n",
    "    \n",
    "    return table_percentage\n",
    "\n",
    "def display_table(dataset, index):\n",
    "    table = freq_table(dataset, index)\n",
    "    table_display = []\n",
    "    for key in table:\n",
    "        key_val_as_tuple = (table[key], key)\n",
    "        table_display.append(key_val_as_tuple)\n",
    "\n",
    "    table_sorted = sorted(table_display, reverse = True)\n",
    "    for entry in table_sorted:\n",
    "        print(entry[1], ':', entry[0])\n",
    "\n",
    "display_table(google_free_apps, google_genre_index[0])\n",
    "display_table(google_free_apps, google_genre_index[1])\n",
    "display_table(apple_free_apps, apple_genre_index)"
   ]
  },
  {
   "source": [
    "The frequency tables we analyzed on the previous screen showed us that the App Store is dominated by apps designed for fun, while Google Play shows a more balanced landscape of both practical and fun apps. Now, we'd like to get an idea about the kind of apps with the most users.\n",
    "\n",
    "One way to find out what genres are the most popular (have the most users) is to calculate the average number of installs for each app genre. For the Google Play data set, we can find this information in the Installs column, but this information is missing for the App Store data set. As a workaround, we'll take the total number of user ratings as a proxy, which we can find in the rating_count_tot app."
   ],
   "cell_type": "markdown",
   "metadata": {}
  },
  {
   "cell_type": "code",
   "execution_count": 52,
   "metadata": {},
   "outputs": [
    {
     "output_type": "stream",
     "name": "stdout",
     "text": [
      "Productivity 21,028.41\nWeather 52,279.89\nShopping 26,919.69\nReference 74,942.11\nFinance 31,467.94\nMusic 57,326.53\nUtilities 18,684.46\nTravel 28,243.8\nSocial Networking 71,548.35\nSports 23,008.9\nHealth & Fitness 23,298.02\nGames 22,788.67\nFood & Drink 33,333.92\nNews 21,248.02\nBook 39,758.5\nPhoto & Video 28,441.54\nEntertainment 14,029.83\nBusiness 7,491.12\nLifestyle 16,485.76\nEducation 7,003.98\nNavigation 86,090.33\nMedical 612.0\nCatalogs 4,004.0\n"
     ]
    }
   ],
   "source": [
    "prime_genres = freq_table(apple_free_apps, apple_genre_index)\n",
    "\n",
    "for genre in prime_genres:\n",
    "    total = 0\n",
    "    len_genre = 0\n",
    "\n",
    "    for app in apple_free_apps:\n",
    "        genre_app = app[apple_genre_index]\n",
    "\n",
    "        if genre_app == genre:\n",
    "            rating = float(app[6]) #index of rating_count_tot\n",
    "            total += rating\n",
    "            len_genre += 1\n",
    "\n",
    "    user_rating_avg = round(total / len_genre, 2)\n",
    "    user_rating_avg = \"{:,}\".format(user_rating_avg)\n",
    "    print(genre, user_rating_avg)"
   ]
  },
  {
   "source": [
    "On average, navigation apps have the highest number of user reviews, but this figure is heavily influenced by Waze and Google Maps, which have close to half a million user reviews together:"
   ],
   "cell_type": "markdown",
   "metadata": {}
  },
  {
   "cell_type": "code",
   "execution_count": 53,
   "metadata": {},
   "outputs": [
    {
     "output_type": "stream",
     "name": "stdout",
     "text": [
      "Waze - GPS Navigation, Maps & Real-time Traffic : 345,046\nGeocaching® : 12,811\nImmobilienScout24: Real Estate Search in Germany : 187\nRailway Route Search : 5\nCoPilot GPS – Car Navigation & Offline Maps : 3,582\nGoogle Maps - Navigation & Transit : 154,911\n"
     ]
    }
   ],
   "source": [
    "for app in apple_free_apps:\n",
    "    if app[apple_genre_index] == 'Navigation':\n",
    "        print(app[2], ':', \"{:,}\".format(int(app[6]))) # print name and number of ratings"
   ]
  },
  {
   "cell_type": "code",
   "execution_count": null,
   "metadata": {},
   "outputs": [],
   "source": []
  },
  {
   "cell_type": "code",
   "execution_count": null,
   "metadata": {},
   "outputs": [],
   "source": []
  },
  {
   "source": [
    "The same pattern applies to social networking apps, where the average number is heavily influenced by a few giants like Facebook, Pinterest, Skype, etc. Same applies to music apps, where a few big players like Pandora, Spotify, and Shazam heavily influence the average number.\n",
    "\n",
    "Our aim is to find popular genres, but navigation, social networking or music apps might seem more popular than they really are. The average number of ratings seem to be skewed by very few apps which have hundreds of thousands of user ratings, while the other apps may struggle to get past the 10,000 threshold.\n",
    "\n",
    "Reference apps have 74,942 user ratings on average, but it's actually the Bible and Dictionary.com which skew up the average rating:"
   ],
   "cell_type": "markdown",
   "metadata": {}
  },
  {
   "cell_type": "code",
   "execution_count": 54,
   "metadata": {},
   "outputs": [
    {
     "output_type": "stream",
     "name": "stdout",
     "text": [
      "Bible : 985920\nDictionary.com Dictionary & Thesaurus : 200047\nDictionary.com Dictionary & Thesaurus for iPad : 54175\nMuslim Pro: Ramadan 2017 Prayer Times, Azan, Quran : 18418\nMerriam-Webster Dictionary : 16849\nGoogle Translate : 26786\nNight Sky : 12122\nWWDC : 762\nJishokun-Japanese English Dictionary & Translator : 0\n教えて!goo : 0\nVPN Express : 14\nNew Furniture Mods - Pocket Wiki & Game Tools for Minecraft PC Edition : 17588\nLUCKY BLOCK MOD ™ for Minecraft PC Edition - The Best Pocket Wiki & Mods Installer Tools : 4693\nGuides for Pokémon GO - Pokemon GO News and Cheats : 826\nHorror Maps for Minecraft PE - Download The Scariest Maps for Minecraft Pocket Edition (MCPE) Free : 718\nCity Maps for Minecraft PE - The Best Maps for Minecraft Pocket Edition (MCPE) : 8535\nGUNS MODS for Minecraft PC Edition - Mods Tools : 1497\nReal Bike Traffic Rider Virtual Reality Glasses : 8\n"
     ]
    }
   ],
   "source": [
    "for app in apple_free_apps:\n",
    "    if app[apple_genre_index] == 'Reference':\n",
    "        print(app[2], ':', app[6]) # print name and number of ratings"
   ]
  },
  {
   "source": [
    "However, this niche seems to show some potential. One thing we could do is take another popular book and turn it into an app where we could add different features besides the raw version of the book. This might include daily quotes from the book, an audio version of the book, quizzes about the book, etc. On top of that, we could also embed a dictionary within the app, so users don't need to exit our app to look up words in an external app.\n",
    "\n",
    "This idea seems to fit well with the fact that the App Store is dominated by for-fun apps. This suggests the market might be a bit saturated with for-fun apps, which means a practical app might have more of a chance to stand out among the huge number of apps on the App Store.\n",
    "\n",
    "Other genres that seem popular include weather, book, food and drink, or finance. The book genre seem to overlap a bit with the app idea we described above, but the other genres don't seem too interesting to us:\n",
    "\n",
    "Weather apps — people generally don't spend too much time in-app, and the chances of making profit from in-app adds are low. Also, getting reliable live weather data may require us to connect our apps to non-free APIs.\n",
    "\n",
    "Food and drink — examples here include Starbucks, Dunkin' Donuts, McDonald's, etc. So making a popular food and drink app requires actual cooking and a delivery service, which is outside the scope of our company.\n",
    "\n",
    "Finance apps — these apps involve banking, paying bills, money transfer, etc. Building a finance app requires domain knowledge, and we don't want to hire a finance expert just to build an app.\n",
    "\n",
    "Now let's analyze the Google Play market a bit."
   ],
   "cell_type": "markdown",
   "metadata": {}
  },
  {
   "source": [
    "Most Popular Apps by Genre on Google Play\n",
    "For the Google Play market, we actually have data about the number of installs, so we should be able to get a clearer picture about genre popularity. However, the install numbers don't seem precise enough — we can see that most values are open-ended (100+, 1,000+, 5,000+, etc.)"
   ],
   "cell_type": "markdown",
   "metadata": {}
  },
  {
   "cell_type": "code",
   "execution_count": 55,
   "metadata": {},
   "outputs": [
    {
     "output_type": "stream",
     "name": "stdout",
     "text": [
      "1,000,000+ : 15.73\n100,000+ : 11.55\n10,000,000+ : 10.55\n10,000+ : 10.2\n1,000+ : 8.39\n100+ : 6.92\n5,000,000+ : 6.83\n500,000+ : 5.56\n50,000+ : 4.77\n5,000+ : 4.51\n10+ : 3.54\n500+ : 3.25\n50,000,000+ : 2.3\n100,000,000+ : 2.13\n50+ : 1.92\n5+ : 0.79\n1+ : 0.51\n500,000,000+ : 0.27\n1,000,000,000+ : 0.23\n0+ : 0.05\n"
     ]
    }
   ],
   "source": [
    "display_table(google_free_apps, 5) # 5 is Installs index"
   ]
  },
  {
   "source": [
    "One problem with this data is that is not precise. For instance, we don't know whether an app with 100,000+ installs has 100,000 installs, 200,000, or 350,000. However, we don't need very precise data for our purposes — we only want to get an idea which app genres attract the most users, and we don't need perfect precision with respect to the number of users.\n",
    "\n",
    "We're going to leave the numbers as they are, which means that we'll consider that an app with 100,000+ installs has 100,000 installs, and an app with 1,000,000+ installs has 1,000,000 installs, and so on.\n",
    "\n",
    "To perform computations, however, we'll need to convert each install number to float — this means that we need to remove the commas and the plus characters, otherwise the conversion will fail and raise an error. We'll do this directly in the loop below, where we also compute the average number of installs for each genre (category)."
   ],
   "cell_type": "markdown",
   "metadata": {}
  },
  {
   "cell_type": "code",
   "execution_count": 56,
   "metadata": {},
   "outputs": [
    {
     "output_type": "stream",
     "name": "stdout",
     "text": [
      "ART_AND_DESIGN 1,986,335.09\n",
      "AUTO_AND_VEHICLES 647,317.82\n",
      "BEAUTY 513,151.89\n",
      "BOOKS_AND_REFERENCE 8,767,811.89\n",
      "BUSINESS 1,712,290.15\n",
      "COMICS 817,657.27\n",
      "COMMUNICATION 38,456,119.17\n",
      "DATING 854,028.83\n",
      "EDUCATION 1,833,495.15\n",
      "ENTERTAINMENT 11,640,705.88\n",
      "EVENTS 253,542.22\n",
      "FINANCE 1,387,692.48\n",
      "FOOD_AND_DRINK 1,924,897.74\n",
      "HEALTH_AND_FITNESS 4,188,821.99\n",
      "HOUSE_AND_HOME 1,331,540.56\n",
      "LIBRARIES_AND_DEMO 638,503.73\n",
      "LIFESTYLE 1,437,816.27\n",
      "GAME 15,588,015.6\n",
      "FAMILY 3,697,848.17\n",
      "MEDICAL 120,550.62\n",
      "SOCIAL 23,253,652.13\n",
      "SHOPPING 7,036,877.31\n",
      "PHOTOGRAPHY 17,840,110.4\n",
      "SPORTS 3,638,640.14\n",
      "TRAVEL_AND_LOCAL 13,984,077.71\n",
      "TOOLS 10,801,391.3\n",
      "PERSONALIZATION 5,201,482.61\n",
      "PRODUCTIVITY 16,787,331.34\n",
      "PARENTING 542,603.62\n",
      "WEATHER 5,074,486.2\n",
      "VIDEO_PLAYERS 24,727,872.45\n",
      "NEWS_AND_MAGAZINES 9,549,178.47\n",
      "MAPS_AND_NAVIGATION 4,056,941.77\n"
     ]
    }
   ],
   "source": [
    "category_freq = freq_table(google_free_apps, google_genre_index[0])\n",
    "\n",
    "for category in category_freq: # Iterate over unique categories\n",
    "    total = 0\n",
    "    len_category = 0\n",
    "\n",
    "    for app in google_free_apps:\n",
    "        category_app = app[google_genre_index[0]]\n",
    "        if category_app == category:\n",
    "            installs = float(app[5].replace('+', '').replace(',', ''))\n",
    "            total += installs\n",
    "            len_category += 1\n",
    "\n",
    "    installs_avg = round(total / len_category, 2)\n",
    "    formated_installs = \"{:,}\".format(installs_avg)\n",
    "    print(category, formated_installs)\n"
   ]
  },
  {
   "source": [
    "Best looking categories:\n",
    "\n",
    "- COMMUNICATION 38,456,119.17\n",
    "- VIDEO_PLAYERS 24,727,872.45\n",
    "- SOCIAL 23,253,652.13\n",
    "- PHOTOGRAPHY 17,840,110.4\n",
    "- PRODUCTIVITY 16,787,331.34"
   ],
   "cell_type": "markdown",
   "metadata": {}
  },
  {
   "cell_type": "code",
   "execution_count": 57,
   "metadata": {},
   "outputs": [
    {
     "output_type": "stream",
     "name": "stdout",
     "text": [
      "Microsoft Word : 500,000,000+\nMicrosoft Outlook : 100,000,000+\nMicrosoft OneDrive : 100,000,000+\nMicrosoft OneNote : 100,000,000+\nGoogle Keep : 100,000,000+\nES File Explorer File Manager : 100,000,000+\nDropbox : 500,000,000+\nGoogle Docs : 100,000,000+\nMicrosoft PowerPoint : 100,000,000+\nSamsung Notes : 100,000,000+\nSwiftKey Keyboard : 100,000,000+\nGoogle Drive : 1,000,000,000+\nAdobe Acrobat Reader : 100,000,000+\nGoogle Sheets : 100,000,000+\nMicrosoft Excel : 100,000,000+\nWPS Office - Word, Docs, PDF, Note, Slide & Sheet : 100,000,000+\nGoogle Slides : 100,000,000+\nColorNote Notepad Notes : 100,000,000+\nEvernote – Organizer, Planner for Notes & Memos : 100,000,000+\nGoogle Calendar : 500,000,000+\nCloud Print : 500,000,000+\nCamScanner - Phone PDF Creator : 100,000,000+\n"
     ]
    }
   ],
   "source": [
    "for app in google_free_apps:\n",
    "    if app[google_genre_index[0]] == 'PRODUCTIVITY' and (app[5] == '1,000,000,000+' or app[5] == '500,000,000+' or app[5] == '100,000,000+'):\n",
    "        print(app[0], ':', app[5]) # print name and number of ratings"
   ]
  },
  {
   "cell_type": "code",
   "execution_count": null,
   "metadata": {},
   "outputs": [],
   "source": []
  }
 ]
}